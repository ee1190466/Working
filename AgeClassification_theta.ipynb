{
  "cells": [
    {
      "cell_type": "code",
      "execution_count": 75,
      "metadata": {
        "colab": {
          "base_uri": "https://localhost:8080/"
        },
        "id": "2IY5UILiJSIo",
        "outputId": "f18349ab-8ad4-458a-d952-d94c673a4ac4"
      },
      "outputs": [
        {
          "output_type": "stream",
          "name": "stdout",
          "text": [
            "Drive already mounted at /content/drive; to attempt to forcibly remount, call drive.mount(\"/content/drive\", force_remount=True).\n"
          ]
        }
      ],
      "source": [
        "# importing to allow to read files into google colab directly from drive!\n",
        "\n",
        "from google.colab import drive\n",
        "drive.mount('/content/drive')"
      ],
      "id": "2IY5UILiJSIo"
    },
    {
      "cell_type": "code",
      "execution_count": 76,
      "metadata": {
        "id": "51e16a89"
      },
      "outputs": [],
      "source": [
        "# importing necessary libs\n",
        "\n",
        "import pandas as pd\n",
        "import numpy as np\n",
        "import matplotlib.pyplot as plt\n",
        "import os\n",
        "import csv\n",
        "import itertools\n",
        "import keras\n",
        "# Setting seed for reproducibility\n",
        "np.random.seed(1234)  \n",
        "PYTHONHASHSEED = 0\n",
        "\n",
        "from sklearn import preprocessing\n",
        "from sklearn.metrics import confusion_matrix, recall_score, precision_score\n",
        "from keras.models import Sequential,load_model,model_from_json\n",
        "from keras.layers import Dense, Dropout, LSTM,BatchNormalization,TimeDistributed,Flatten,Bidirectional"
      ],
      "id": "51e16a89"
    },
    {
      "cell_type": "code",
      "execution_count": 77,
      "metadata": {
        "colab": {
          "base_uri": "https://localhost:8080/"
        },
        "id": "40a38aeb",
        "outputId": "da4d10da-2845-4f47-af68-5a3b86905ee4"
      },
      "outputs": [
        {
          "output_type": "execute_result",
          "data": {
            "text/plain": [
              "60"
            ]
          },
          "metadata": {},
          "execution_count": 77
        }
      ],
      "source": [
        "# the name of file names to read from txt files\n",
        "\n",
        "filename = ['L4_abhay_M_38_10.txt','L4_abhilash1_M_23_10.txt','L4_amrish_M_29_10.txt','L4_annu1_F_10_10.txt','L4_anuj1_M_13_10.txt','L4_avinash1_M_27_10.txt','L4_bhuvan1_M_13_10.txt','L4_chachiiiiiiiiiii1_F_35_10.txt','L4_champu_M_21_10.txt','L4_garima1_F_13_10.txt','L4_geetamami1_F_34_10.txt','L4_gordhan_M_45_10.txt','L4_Gunjan1_F_17_10.txt','L4_guzzrAunty1_F_48_10.txt','L4_joney1_M_31_10.txt','L4_kanchan1_F_12_10.txt','L4_kapil_M_21_10.txt','L4_kirti1_F_6_10.txt','L4_kusum1_F_48_10.txt','L4_lalit1_M_12_10.txt','L4_laras1_M_8_10.txt','L4_mahesh1_M_50_10.txt','L4_mannu1_M_13_10.txt','L4_manthan1_M_18_10.txt','L4_mohit1_M_10_10.txt','L4_monika1_F_24_10.txt','L4_moolchnd1_M_47_10.txt','L4_munish_M_42_10.txt','L4_nanaji1_M_63_10.txt','L4_naveen1_M_15_10.txt','L4_neeraj_M_28_10.txt','L4_nirmal_M_49_10.txt','L4_nishu1_M_12_10.txt','L4_omsingh_M_35_10.txt','L4_pawan1_M_23_10.txt','L4_prabhat1_M_25_10.txt','L4_prachi1_F_8_10.txt','L4_praveen1_M_28_10.txt','L4_priya1_F_7_10.txt','L4_pushpa1_F_37_10.txt','L4_radhe1_M_36_10.txt','L4_rajumama1_M_36_10.txt','L4_raj_M_28_10.txt','L4_ranu_M_22_10.txt','L4_rohit1_M_16_10.txt','L4_sachinn_M_38_10.txt','L4_sakshi1_F_19_10.txt','L4_santosh1_F_53_10.txt','L4_shelly_F_17_10.txt','L4_soniya1_F_25_10.txt','L4_sumit1_M_12_10.txt','L4_sunil_M_27_10.txt','L4_sunyana1_F_15_10.txt','L4_sushma1_F_18_10.txt','L4_swati1_F_13_10.txt','L4_tarun1_M_18_10.txt','L4_umesh1_M_20_10.txt','L4_vikas1_M_33_10.txt','L4_vinay1_M_11_10.txt','L4_yogesh_M_28_10.txt']\n",
        "len(filename)"
      ],
      "id": "40a38aeb"
    },
    {
      "cell_type": "code",
      "execution_count": 81,
      "metadata": {
        "colab": {
          "base_uri": "https://localhost:8080/"
        },
        "id": "cc27650d",
        "outputId": "d7ce16c5-6bda-49b6-f699-bf0718426665"
      },
      "outputs": [
        {
          "output_type": "stream",
          "name": "stdout",
          "text": [
            "(632697, 16)\n",
            "                          0       1         2        3        4        5   \\\n",
            "0        L1_abhay_M_38_1.txt  2.9420 -29.96100 -0.68681  0.82153  0.86877   \n",
            "1        L1_abhay_M_38_1.txt  2.9450 -32.86300 -0.74484  0.81187  0.83548   \n",
            "2        L1_abhay_M_38_1.txt  2.9471 -35.74700 -0.80226  0.80232  0.80218   \n",
            "3        L1_abhay_M_38_1.txt  2.9483 -38.61200 -0.85904  0.79290  0.76888   \n",
            "4        L1_abhay_M_38_1.txt  2.9485 -41.45600 -0.91516  0.78361  0.73557   \n",
            "...                      ...     ...       ...      ...      ...      ...   \n",
            "632692  L4_yogesh_M_28_9.txt -4.1062  -0.61699  5.62520 -2.40570 -0.18109   \n",
            "632693  L4_yogesh_M_28_9.txt -3.8848  -0.62440  5.46230 -2.36910 -0.16975   \n",
            "632694  L4_yogesh_M_28_9.txt -3.6614  -0.63148  5.29760 -2.33170 -0.15834   \n",
            "632695  L4_yogesh_M_28_9.txt -3.4362  -0.63807  5.13110 -2.29360 -0.14687   \n",
            "632696  L4_yogesh_M_28_9.txt -3.2091  -0.64403  4.96310 -2.25490 -0.13535   \n",
            "\n",
            "            6        7         8        9        10      11       12       13  \\\n",
            "0       9.5834 -6.33200  10.73200 -13.3020 -0.19444  2.1243  4.20320 -33.1910   \n",
            "1       9.6115 -6.38940  10.81100 -13.2060 -0.19588  2.1625  4.21400 -33.1500   \n",
            "2       9.6373 -6.44510  10.88600 -13.1080 -0.19727  2.1980  4.22350 -33.0990   \n",
            "3       9.6608 -6.49910  10.95900 -13.0080 -0.19860  2.2308  4.23150 -33.0400   \n",
            "4       9.6820 -6.55130  11.02800 -12.9060 -0.19988  2.2609  4.23820 -32.9710   \n",
            "...        ...      ...       ...      ...      ...     ...      ...      ...   \n",
            "632692 -1.4530  1.08490  -0.12442   3.3043 -0.20716  6.8000  0.98531   3.8574   \n",
            "632693 -1.3856  1.05390  -0.17373   3.3908 -0.21575  6.8622  1.10890   3.7747   \n",
            "632694 -1.3174  1.02250  -0.22283   3.4770 -0.22430  6.9228  1.23250   3.6906   \n",
            "632695 -1.2486  0.99108  -0.27155   3.5626 -0.23281  6.9818  1.35630   3.6052   \n",
            "632696 -1.1791  0.95955  -0.31972   3.6478 -0.24127  7.0392  1.47990   3.5183   \n",
            "\n",
            "             14  16  \n",
            "0      -0.33352   5  \n",
            "1      -0.30643   5  \n",
            "2      -0.27927   5  \n",
            "3      -0.25205   5  \n",
            "4      -0.22479   5  \n",
            "...         ...  ..  \n",
            "632692 -1.64280   4  \n",
            "632693 -1.62630   4  \n",
            "632694 -1.60920   4  \n",
            "632695 -1.59160   4  \n",
            "632696 -1.57350   4  \n",
            "\n",
            "[632697 rows x 16 columns]\n"
          ]
        }
      ],
      "source": [
        "FILE_PATH = '/content/drive/MyDrive/ell319_termpaper/Untitled Folder/'\n",
        "# theta_age.csv, beta_age.csv, gamma_age.csv and alpha_age.csv\n",
        "df=pd.read_csv(FILE_PATH+'theta_age.csv',header=None)\n",
        "conditions = [\n",
        "    (df[15] <= 10),\n",
        "    (df[15] > 10) & (df[15] <= 15),\n",
        "    (df[15] > 15) & (df[15] <= 23),\n",
        "    (df[15] > 23) & (df[15] <= 29),\n",
        "    (df[15] > 29) & (df[15] <= 38),\n",
        "    (df[15] <= 90)]\n",
        "choices = [1, 2, 3, 4, 5, 6]\n",
        "df[16] = np.select(conditions, choices, default=0)\n",
        "df = df.drop(15,axis=1)\n",
        "print(df.shape)\n",
        "print(df)"
      ],
      "id": "cc27650d"
    },
    {
      "cell_type": "code",
      "execution_count": 82,
      "metadata": {
        "id": "Lj2_DANuOMWK"
      },
      "outputs": [],
      "source": [
        "data=np.array(df)\n",
        "data = data[:80380,:]"
      ],
      "id": "Lj2_DANuOMWK"
    },
    {
      "cell_type": "code",
      "execution_count": 83,
      "metadata": {
        "id": "n5yaYvCKORJl"
      },
      "outputs": [],
      "source": [
        "from sklearn.preprocessing import StandardScaler\n",
        "scl = StandardScaler()\n",
        "data[:,1:15] = scl.fit_transform(data[:,1:15])"
      ],
      "id": "n5yaYvCKORJl"
    },
    {
      "cell_type": "code",
      "execution_count": 84,
      "metadata": {
        "colab": {
          "base_uri": "https://localhost:8080/"
        },
        "id": "e55c1641",
        "outputId": "4f04c2df-de79-40a0-b7a8-10a2e60b39e1"
      },
      "outputs": [
        {
          "output_type": "stream",
          "name": "stdout",
          "text": [
            "(80380, 16)\n",
            "[['L1_abhay_M_38_1.txt' 0.03922215632590721 -0.21473843564963072 ...\n",
            "  -0.2384719587777121 -0.0028727494025529527 5]\n",
            " ['L1_abhay_M_38_1.txt' 0.03926224507033802 -0.23559512555705153 ...\n",
            "  -0.2381775666774896 -0.0026275396225387978 5]\n",
            " ['L1_abhay_M_38_1.txt' 0.03929030719143959 -0.2563224493658047 ...\n",
            "  -0.23781137162599333 -0.0023816962255220225 5]\n",
            " ...\n",
            " ['L1_nirmal_M_49_10.txt' -0.19466894159827935 -0.06732648491837022 ...\n",
            "  -0.066216678671924 -0.7684222084424778 6]\n",
            " ['L1_nirmal_M_49_10.txt' -0.19937268761149501 -0.06910239397285804 ...\n",
            "  -0.06817689924169808 -0.765335588472569 6]\n",
            " ['L1_nirmal_M_49_10.txt' -0.20403634488027986 -0.07086249161528649 ...\n",
            "  -0.07011845104414097 -0.7621222451021362 6]]\n"
          ]
        }
      ],
      "source": [
        "\n",
        "print(data.shape)\n",
        "print(data)"
      ],
      "id": "e55c1641"
    },
    {
      "cell_type": "code",
      "execution_count": 85,
      "metadata": {
        "id": "354d3d27"
      },
      "outputs": [],
      "source": [
        "# pick a large window size of 25 cycles\n",
        "sequence_length = 50\n",
        "\n",
        "# function to reshape features into (samples, time steps, features) \n",
        "def gen_sequence(id_df, seq_length, seq_cols):\n",
        "    \n",
        "    data_matrix = id_df[:,seq_cols]\n",
        "    \n",
        "    num_elements = data_matrix.shape[0]\n",
        "    for start, stop in zip(range(0, num_elements-seq_length), range(seq_length, num_elements)):\n",
        "        yield data_matrix[start:stop, :]"
      ],
      "id": "354d3d27"
    },
    {
      "cell_type": "code",
      "execution_count": 86,
      "metadata": {
        "colab": {
          "base_uri": "https://localhost:8080/"
        },
        "id": "e1b7f79d",
        "outputId": "eb5a1738-3d41-4e0c-b3a3-e63efe4358c5"
      },
      "outputs": [
        {
          "output_type": "stream",
          "name": "stdout",
          "text": [
            "(64780, 50, 15)\n"
          ]
        },
        {
          "output_type": "execute_result",
          "data": {
            "text/plain": [
              "array([[[-1.1607542307216863, -1.4800035636687658, -0.3033433774557399,\n",
              "         ..., -2.069655444817688, -1.9274977913362599, 3],\n",
              "        [-1.200228281071229, -1.5479207654692921, -0.31967958468195345,\n",
              "         ..., -2.119989313660605, -1.9714889146610584, 3],\n",
              "        [-1.2395419764430484, -1.615622357105372, -0.33595391233534044,\n",
              "         ..., -2.169964167747153, -2.0150274544125564, 3],\n",
              "        ...,\n",
              "        [-2.3793585210147987, -3.682317653376198, -0.80682210178961,\n",
              "         ..., -3.4879791413285806, -3.0924479090114816, 3],\n",
              "        [-2.381229329088237, -3.691301410228119, -0.8076442161143058,\n",
              "         ..., -3.484963417375082, -3.086564322558576, 3],\n",
              "        [-2.3817638456806476, -3.698344675600025, -0.8079712938563892,\n",
              "         ..., -3.4802962255422867, -3.0790514352417895, 3]],\n",
              "\n",
              "       [[-1.200228281071229, -1.5479207654692921, -0.31967958468195345,\n",
              "         ..., -2.119989313660605, -1.9714889146610584, 3],\n",
              "        [-1.2395419764430484, -1.615622357105372, -0.33595391233534044,\n",
              "         ..., -2.169964167747153, -2.0150274544125564, 3],\n",
              "        [-1.2786953168371449, -1.6831802086318213, -0.3521752003548761,\n",
              "         ..., -2.219651810028606, -2.0582039273054145, 3],\n",
              "        ...,\n",
              "        [-2.381229329088237, -3.691301410228119, -0.8076442161143058,\n",
              "         ..., -3.484963417375082, -3.086564322558576, 3],\n",
              "        [-2.3817638456806476, -3.698344675600025, -0.8079712938563892,\n",
              "         ..., -3.4802962255422867, -3.0790514352417895, 3],\n",
              "        [-2.381095699940134, -3.7034474494919167, -0.8077944950768846,\n",
              "         ..., -3.473977565830195, -3.0700902804904415, 3]],\n",
              "\n",
              "       [[-1.2395419764430484, -1.615622357105372, -0.33595391233534044,\n",
              "         ..., -2.169964167747153, -2.0150274544125564, 3],\n",
              "        [-1.2786953168371449, -1.6831802086318213, -0.3521752003548761,\n",
              "         ..., -2.219651810028606, -2.0582039273054145, 3],\n",
              "        [-1.3176615764238973, -1.750450579939009, -0.36832576886260987,\n",
              "         ..., -2.268908634602416, -2.101018333339632, 3],\n",
              "        ...,\n",
              "        [-2.3817638456806476, -3.698344675600025, -0.8079712938563892,\n",
              "         ..., -3.4802962255422867, -3.0790514352417895, 3],\n",
              "        [-2.381095699940134, -3.7034474494919167, -0.8077944950768846,\n",
              "         ..., -3.473977565830195, -3.0700902804904415, 3],\n",
              "        [-2.379224891866696, -3.706537861848977, -0.8071138197757924,\n",
              "         ..., -3.4660074382388055, -3.059499824875212, 3]],\n",
              "\n",
              "       ...,\n",
              "\n",
              "       [[0.04952763622758879, 0.023213254036390445,\n",
              "         -0.17969031107030975, ..., 0.03393551382376392,\n",
              "         -0.8180253680762012, 6],\n",
              "        [0.045171325999440196, 0.021640737237030114,\n",
              "         -0.17954887204670616, ..., 0.032193574225862116,\n",
              "         -0.8179167480186091, 6],\n",
              "        [0.04076423669501257, 0.020049534223417785, -0.1793720732672017,\n",
              "         ..., 0.030432247831116397, -0.8175908878458328, 6],\n",
              "        ...,\n",
              "        [-0.18029044526242693, -0.06191107628803196,\n",
              "         -0.1439327579155296, ..., -0.06023908297838215,\n",
              "         -0.7767859528770691, 6],\n",
              "        [-0.18511445750893504, -0.06372938867486086,\n",
              "         -0.14247416798461768, ..., -0.06224669349599693,\n",
              "         -0.7741609681519268, 6],\n",
              "        [-0.1899117439258226, -0.06553476445182299,\n",
              "         -0.14098905823678007, ..., -0.06423994342335695,\n",
              "         -0.7713730533403964, 6]],\n",
              "\n",
              "       [[0.045171325999440196, 0.021640737237030114,\n",
              "         -0.17954887204670616, ..., 0.032193574225862116,\n",
              "         -0.8179167480186091, 6],\n",
              "        [0.04076423669501257, 0.020049534223417785, -0.1793720732672017,\n",
              "         ..., 0.030432247831116397, -0.8175908878458328, 6],\n",
              "        [0.03630636831430591, 0.01843820759445716, -0.17915991473179632,\n",
              "         ..., 0.02865081661001402, -0.8170930459152025, 6],\n",
              "        ...,\n",
              "        [-0.18511445750893504, -0.06372938867486086,\n",
              "         -0.14247416798461768, ..., -0.06224669349599693,\n",
              "         -0.7741609681519268, 6],\n",
              "        [-0.1899117439258226, -0.06553476445182299,\n",
              "         -0.14098905823678007, ..., -0.06423994342335695,\n",
              "         -0.7713730533403964, 6],\n",
              "        [-0.19466894159827935, -0.06732648491837022,\n",
              "         -0.13945974879406636, ..., -0.066216678671924,\n",
              "         -0.7684222084424778, 6]],\n",
              "\n",
              "       [[0.04076423669501257, 0.020049534223417785, -0.1793720732672017,\n",
              "         ..., 0.030432247831116397, -0.8175908878458328, 6],\n",
              "        [0.03630636831430591, 0.01843820759445716, -0.17915991473179632,\n",
              "         ..., 0.02865081661001402, -0.8170930459152025, 6],\n",
              "        [0.03180039344028228, 0.01680891345179268, -0.17891239644049006,\n",
              "         ..., 0.026849998592067728, -0.8164413255696499, 6],\n",
              "        ...,\n",
              "        [-0.1899117439258226, -0.06553476445182299,\n",
              "         -0.14098905823678007, ..., -0.06423994342335695,\n",
              "         -0.7713730533403964, 6],\n",
              "        [-0.19466894159827935, -0.06732648491837022,\n",
              "         -0.13945974879406636, ..., -0.066216678671924,\n",
              "         -0.7684222084424778, 6],\n",
              "        [-0.19937268761149501, -0.06910239397285804,\n",
              "         -0.13790391953442696, ..., -0.06817689924169808,\n",
              "         -0.765335588472569, 6]]], dtype=object)"
            ]
          },
          "metadata": {},
          "execution_count": 86
        }
      ],
      "source": [
        "sequence_cols = [1,2,3,4,5,6,7,8,9,10,11,12,13,14,15]\n",
        "\n",
        "seq_gen = (list(gen_sequence(data[data[0:,0]==id], sequence_length, sequence_cols)) \n",
        "          for id in np.unique(data[0:,0]))\n",
        "\n",
        "seq_array = np.concatenate(list(seq_gen))\n",
        "print(seq_array.shape)\n",
        "seq_array"
      ],
      "id": "e1b7f79d"
    },
    {
      "cell_type": "code",
      "execution_count": 87,
      "metadata": {
        "id": "R1Bc3rHnEPPU"
      },
      "outputs": [],
      "source": [
        "from sklearn.utils import shuffle\n",
        "seq_array = shuffle(seq_array)"
      ],
      "id": "R1Bc3rHnEPPU"
    },
    {
      "cell_type": "code",
      "execution_count": 88,
      "metadata": {
        "colab": {
          "base_uri": "https://localhost:8080/"
        },
        "id": "ceda5e73",
        "outputId": "59c8c001-86b6-4a8a-a28a-a8b5adda8abe"
      },
      "outputs": [
        {
          "output_type": "stream",
          "name": "stdout",
          "text": [
            "(60000, 50, 14)\n",
            "(60000, 1)\n",
            "(4780, 50, 14)\n",
            "(4780,)\n"
          ]
        }
      ],
      "source": [
        "train_final=seq_array[0:60000,:,0:14]\n",
        "test_final=seq_array[60000:,:,0:14]\n",
        "from sklearn import preprocessing\n",
        "train_label=seq_array[0:60000,0,14]\n",
        "test_label=seq_array[60000:,0,14]\n",
        "train_label=train_label.reshape((train_label.shape[0],1))\n",
        "train_label=train_label.astype('int')\n",
        "test_label=test_label.astype('int')\n",
        "print(train_final.shape)\n",
        "print(train_label.shape)\n",
        "print(test_final.shape)\n",
        "print(test_label.shape)"
      ],
      "id": "ceda5e73"
    },
    {
      "cell_type": "code",
      "execution_count": 89,
      "metadata": {
        "colab": {
          "base_uri": "https://localhost:8080/"
        },
        "id": "Gwn1uPixYGxi",
        "outputId": "7e3dd193-0fbc-4a5e-9c8a-7f51ba5fb3ff"
      },
      "outputs": [
        {
          "output_type": "stream",
          "name": "stderr",
          "text": [
            "/usr/local/lib/python3.7/dist-packages/sklearn/preprocessing/_label.py:98: DataConversionWarning: A column-vector y was passed when a 1d array was expected. Please change the shape of y to (n_samples, ), for example using ravel().\n",
            "  y = column_or_1d(y, warn=True)\n",
            "/usr/local/lib/python3.7/dist-packages/sklearn/preprocessing/_label.py:133: DataConversionWarning: A column-vector y was passed when a 1d array was expected. Please change the shape of y to (n_samples, ), for example using ravel().\n",
            "  y = column_or_1d(y, warn=True)\n"
          ]
        }
      ],
      "source": [
        "from sklearn.preprocessing import LabelEncoder\n",
        "encoder = LabelEncoder()\n",
        "encoder.fit(train_label)\n",
        "train_label = encoder.transform(train_label)\n",
        "test_label = encoder.transform(test_label)\n",
        "# convert integers to dummy variables (i.e. one hot encoded)"
      ],
      "id": "Gwn1uPixYGxi"
    },
    {
      "cell_type": "code",
      "execution_count": 90,
      "metadata": {
        "id": "evmVSdWaYvuz"
      },
      "outputs": [],
      "source": [
        "from keras.utils import np_utils\n",
        "\n",
        "train_label = np_utils.to_categorical(train_label)\n",
        "# test_label = np_utils.to_categorical(test_label)"
      ],
      "id": "evmVSdWaYvuz"
    },
    {
      "cell_type": "code",
      "execution_count": 91,
      "metadata": {
        "colab": {
          "base_uri": "https://localhost:8080/"
        },
        "id": "FGxibt8jY5BT",
        "outputId": "5f19c5c1-dfe7-4f32-b4ab-76ecad9f764a"
      },
      "outputs": [
        {
          "output_type": "stream",
          "name": "stdout",
          "text": [
            "(60000, 50, 14)\n",
            "(60000, 6)\n",
            "(4780, 50, 14)\n",
            "(4780,)\n",
            "[[0. 0. 0. 0. 0. 1.]\n",
            " [1. 0. 0. 0. 0. 0.]\n",
            " [0. 0. 0. 1. 0. 0.]\n",
            " ...\n",
            " [1. 0. 0. 0. 0. 0.]\n",
            " [1. 0. 0. 0. 0. 0.]\n",
            " [0. 1. 0. 0. 0. 0.]]\n",
            "[0 1 2 3 4 5]\n"
          ]
        }
      ],
      "source": [
        "print(train_final.shape)\n",
        "print(train_label.shape)\n",
        "print(test_final.shape)\n",
        "print(test_label.shape)\n",
        "print(train_label)\n",
        "print(np.unique(test_label))"
      ],
      "id": "FGxibt8jY5BT"
    },
    {
      "cell_type": "code",
      "execution_count": 92,
      "metadata": {
        "id": "0f50d2fc"
      },
      "outputs": [],
      "source": [
        "import tensorflow\n",
        "from tensorflow.keras.models import Sequential\n",
        "from tensorflow.keras.layers import Dense\n",
        "from tensorflow.keras.layers import LSTM"
      ],
      "id": "0f50d2fc"
    },
    {
      "cell_type": "code",
      "execution_count": 93,
      "metadata": {
        "colab": {
          "base_uri": "https://localhost:8080/"
        },
        "id": "d8b7769b",
        "outputId": "5af26ff6-1dc1-4eb9-8dfe-8ad6f255ebd4"
      },
      "outputs": [
        {
          "output_type": "stream",
          "name": "stdout",
          "text": [
            "Model: \"sequential_4\"\n",
            "_________________________________________________________________\n",
            " Layer (type)                Output Shape              Param #   \n",
            "=================================================================\n",
            " bidirectional_4 (Bidirectio  (None, 50, 512)          555008    \n",
            " nal)                                                            \n",
            "                                                                 \n",
            " dropout_4 (Dropout)         (None, 50, 512)           0         \n",
            "                                                                 \n",
            " batch_normalization_12 (Bat  (None, 50, 512)          2048      \n",
            " chNormalization)                                                \n",
            "                                                                 \n",
            " lstm_13 (LSTM)              (None, 50, 128)           328192    \n",
            "                                                                 \n",
            " batch_normalization_13 (Bat  (None, 50, 128)          512       \n",
            " chNormalization)                                                \n",
            "                                                                 \n",
            " lstm_14 (LSTM)              (None, 64)                49408     \n",
            "                                                                 \n",
            " batch_normalization_14 (Bat  (None, 64)               256       \n",
            " chNormalization)                                                \n",
            "                                                                 \n",
            " dense_8 (Dense)             (None, 32)                2080      \n",
            "                                                                 \n",
            " dense_9 (Dense)             (None, 6)                 198       \n",
            "                                                                 \n",
            "=================================================================\n",
            "Total params: 937,702\n",
            "Trainable params: 936,294\n",
            "Non-trainable params: 1,408\n",
            "_________________________________________________________________\n",
            "None\n"
          ]
        },
        {
          "output_type": "stream",
          "name": "stderr",
          "text": [
            "/usr/local/lib/python3.7/dist-packages/keras/optimizer_v2/adam.py:105: UserWarning: The `lr` argument is deprecated, use `learning_rate` instead.\n",
            "  super(Adam, self).__init__(name, **kwargs)\n"
          ]
        }
      ],
      "source": [
        "# creating our model:\n",
        "\n",
        "nb_features = train_final.shape[2]\n",
        "nb_out = train_label.shape[1]\n",
        "\n",
        "model = Sequential()\n",
        "\n",
        "model.add(Bidirectional(LSTM( units=256,\n",
        "         return_sequences=True),\n",
        "         input_shape=(sequence_length, nb_features),\n",
        "        ))\n",
        "model.add(Dropout(0.2))\n",
        "model.add(BatchNormalization())\n",
        "\n",
        "model.add(LSTM(\n",
        "         units=128,\n",
        "         return_sequences=True))\n",
        "\n",
        "model.add(BatchNormalization())\n",
        "model.add(LSTM(\n",
        "          units=64,\n",
        "          return_sequences=False))\n",
        "\n",
        "model.add(BatchNormalization())\n",
        "model.add(Dense(units=32))\n",
        "model.add(Dense(units=6, activation='softmax'))\n",
        "tensorflow.keras.optimizers.Adam(lr=0.001, beta_1=0.9, beta_2=0.999, epsilon=None, decay=0.0, amsgrad=False)\n",
        "model.compile(loss='categorical_crossentropy', optimizer='adam', metrics=['accuracy'])\n",
        "\n",
        "print(model.summary())"
      ],
      "id": "d8b7769b"
    },
    {
      "cell_type": "code",
      "execution_count": 94,
      "metadata": {
        "colab": {
          "base_uri": "https://localhost:8080/"
        },
        "id": "44cfd8ac",
        "outputId": "265bd460-2fb3-4964-ba88-19a8063250bc"
      },
      "outputs": [
        {
          "output_type": "stream",
          "name": "stdout",
          "text": [
            "1500/1500 [==============================] - 146s 93ms/step - loss: 1.0270 - accuracy: 0.6088 - val_loss: 0.5634 - val_accuracy: 0.7942\n"
          ]
        },
        {
          "output_type": "execute_result",
          "data": {
            "text/plain": [
              "<keras.callbacks.History at 0x7efbac365ed0>"
            ]
          },
          "metadata": {},
          "execution_count": 94
        }
      ],
      "source": [
        "# fitting the model with training data\n",
        "\n",
        "train_final = np.asarray(train_final).astype(np.float32)\n",
        "test_final = np.asarray(test_final).astype(np.float32)\n",
        "model.fit(train_final,train_label,validation_split=0.2,epochs=1, batch_size=32,verbose=1)"
      ],
      "id": "44cfd8ac"
    },
    {
      "cell_type": "code",
      "execution_count": 95,
      "metadata": {
        "colab": {
          "base_uri": "https://localhost:8080/"
        },
        "id": "dWDTP_yALgnR",
        "outputId": "e1828d37-e1b3-40fe-ca4a-a9b336feee7e"
      },
      "outputs": [
        {
          "output_type": "stream",
          "name": "stdout",
          "text": [
            "[[522  17   9  15   1  18]\n",
            " [ 18 785  50 106  24  99]\n",
            " [  9  23 606  91   3  67]\n",
            " [  0   7   0 529   4  29]\n",
            " [  1  27  43  88 445  43]\n",
            " [  5  20  23 101  21 931]]\n",
            "\n",
            "Accuracy: 0.80\n",
            "\n",
            "Micro Precision: 0.80\n",
            "Micro Recall: 0.80\n",
            "Micro F1-score: 0.80\n",
            "\n"
          ]
        }
      ],
      "source": [
        "# printing confusion matrix and calculating accuracy of our model\n",
        "\n",
        "test_final = np.asarray(test_final).astype(np.float32)\n",
        "y_pred_test = np.argmax(model.predict(test_final),axis=1)\n",
        "\n",
        "y_true_test = test_label\n",
        "\n",
        "cm_test = confusion_matrix(y_true_test, y_pred_test)\n",
        "print(cm_test)\n",
        "\n",
        "from sklearn.metrics import accuracy_score, precision_score, recall_score, f1_score\n",
        "print('\\nAccuracy: {:.2f}\\n'.format(accuracy_score(y_true_test, y_pred_test)))\n",
        "print('Micro Precision: {:.2f}'.format(precision_score(y_true_test, y_pred_test, average='micro')))\n",
        "print('Micro Recall: {:.2f}'.format(recall_score(y_true_test, y_pred_test, average='micro')))\n",
        "print('Micro F1-score: {:.2f}\\n'.format(f1_score(y_true_test, y_pred_test, average='micro')))"
      ],
      "id": "dWDTP_yALgnR"
    },
    {
      "cell_type": "code",
      "execution_count": 96,
      "metadata": {
        "id": "LBn5STaLLalh"
      },
      "outputs": [],
      "source": [
        "# defining function to plot confusion matrix plot as shown below\n",
        "def plot_confusion_matrix(cm, classes,\n",
        "                          normalize=False,\n",
        "                          title='Confusion matrix',\n",
        "                          cmap=plt.cm.Blues):\n",
        "    \"\"\"\n",
        "    This function prints and plots the confusion matrix.\n",
        "    Normalization can be applied by setting `normalize=True`.\n",
        "    \"\"\"\n",
        "    if normalize:\n",
        "        cm = cm.astype('float') / cm.sum(axis=1)[:, np.newaxis]\n",
        "        print(\"Normalized confusion matrix\")\n",
        "    else:\n",
        "        print('Confusion matrix, without normalization')\n",
        "\n",
        "    print(cm)\n",
        "    fig=plt.figure()\n",
        "    plt.imshow(cm, interpolation='nearest', cmap=cmap)\n",
        "    plt.title(title)\n",
        "    plt.colorbar()\n",
        "    tick_marks = np.arange(len(classes))\n",
        "    plt.xticks(tick_marks, classes, rotation=45)\n",
        "    plt.yticks(tick_marks, classes)\n",
        "\n",
        "    fmt = '.2f' if normalize else 'd'\n",
        "    thresh = cm.max() / 2.\n",
        "    for i, j in itertools.product(range(cm.shape[0]), range(cm.shape[1])):\n",
        "        plt.text(j, i, format(cm[i, j], fmt),\n",
        "                 horizontalalignment=\"center\",\n",
        "                 color=\"white\" if cm[i, j] > thresh else \"black\")\n",
        "\n",
        "    plt.tight_layout()\n",
        "    plt.ylabel('True label')\n",
        "    plt.xlabel('Predicted label')\n",
        "    fig.savefig('confusion_matrix_gender_alpha.png',bbox_inches='tight')"
      ],
      "id": "LBn5STaLLalh"
    },
    {
      "cell_type": "code",
      "execution_count": 97,
      "metadata": {
        "colab": {
          "base_uri": "https://localhost:8080/",
          "height": 652
        },
        "id": "JK-oGdGaLiy6",
        "outputId": "6b3e2b86-3ff8-4830-d29c-aa31956d0034"
      },
      "outputs": [
        {
          "output_type": "stream",
          "name": "stdout",
          "text": [
            "Confusion matrix, without normalization\n",
            "[[522  17   9  15   1  18]\n",
            " [ 18 785  50 106  24  99]\n",
            " [  9  23 606  91   3  67]\n",
            " [  0   7   0 529   4  29]\n",
            " [  1  27  43  88 445  43]\n",
            " [  5  20  23 101  21 931]]\n"
          ]
        },
        {
          "output_type": "display_data",
          "data": {
            "text/plain": [
              "<Figure size 504x504 with 0 Axes>"
            ]
          },
          "metadata": {}
        },
        {
          "output_type": "display_data",
          "data": {
            "text/plain": [
              "<Figure size 504x504 with 2 Axes>"
            ],
            "image/png": "[encoded data removed]"
          },
          "metadata": {
            "needs_background": "light"
          }
        }
      ],
      "source": [
        "# Plot non-normalized confusion matrix\n",
        "class_names=['6 - 10','12 - 15','18 - 23','25 - 29','33 - 38','42 - 55']\n",
        "plt.figure()\n",
        "plt.rcParams[\"figure.figsize\"] = (7,7)\n",
        "plot_confusion_matrix(cm_test, classes=class_names,\n",
        "                      title='Confusion matrix')\n",
        "plt.show()"
      ],
      "id": "JK-oGdGaLiy6"
    }
  ],
  "metadata": {
    "accelerator": "GPU",
    "colab": {
      "collapsed_sections": [],
      "name": "AgeClassification.ipynb",
      "provenance": []
    },
    "kernelspec": {
      "display_name": "Python 3",
      "language": "python",
      "name": "python3"
    },
    "language_info": {
      "codemirror_mode": {
        "name": "ipython",
        "version": 3
      },
      "file_extension": ".py",
      "mimetype": "text/x-python",
      "name": "python",
      "nbconvert_exporter": "python",
      "pygments_lexer": "ipython3",
      "version": "3.8.8"
    }
  },
  "nbformat": 4,
  "nbformat_minor": 5
}