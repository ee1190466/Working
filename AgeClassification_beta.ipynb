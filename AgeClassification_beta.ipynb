{
  "cells": [
    {
      "cell_type": "code",
      "execution_count": 54,
      "metadata": {
        "colab": {
          "base_uri": "https://localhost:8080/"
        },
        "id": "2IY5UILiJSIo",
        "outputId": "02834f88-3057-486c-db26-6c268cd01ee9"
      },
      "outputs": [
        {
          "output_type": "stream",
          "name": "stdout",
          "text": [
            "Drive already mounted at /content/drive; to attempt to forcibly remount, call drive.mount(\"/content/drive\", force_remount=True).\n"
          ]
        }
      ],
      "source": [
        "# importing to allow to read files into google colab directly from drive!\n",
        "\n",
        "from google.colab import drive\n",
        "drive.mount('/content/drive')"
      ],
      "id": "2IY5UILiJSIo"
    },
    {
      "cell_type": "code",
      "execution_count": 55,
      "metadata": {
        "id": "51e16a89"
      },
      "outputs": [],
      "source": [
        "# importing necessary libs\n",
        "\n",
        "import pandas as pd\n",
        "import numpy as np\n",
        "import matplotlib.pyplot as plt\n",
        "import os\n",
        "import csv\n",
        "import itertools\n",
        "import keras\n",
        "# Setting seed for reproducibility\n",
        "np.random.seed(1234)  \n",
        "PYTHONHASHSEED = 0\n",
        "\n",
        "from sklearn import preprocessing\n",
        "from sklearn.metrics import confusion_matrix, recall_score, precision_score\n",
        "from keras.models import Sequential,load_model,model_from_json\n",
        "from keras.layers import Dense, Dropout, LSTM,BatchNormalization,TimeDistributed,Flatten,Bidirectional"
      ],
      "id": "51e16a89"
    },
    {
      "cell_type": "code",
      "execution_count": 56,
      "metadata": {
        "colab": {
          "base_uri": "https://localhost:8080/"
        },
        "id": "40a38aeb",
        "outputId": "2bc60c2d-2e7e-4710-b46e-4b6eccdd522b"
      },
      "outputs": [
        {
          "output_type": "execute_result",
          "data": {
            "text/plain": [
              "60"
            ]
          },
          "metadata": {},
          "execution_count": 56
        }
      ],
      "source": [
        "# the name of file names to read from txt files\n",
        "\n",
        "filename = ['L4_abhay_M_38_10.txt','L4_abhilash1_M_23_10.txt','L4_amrish_M_29_10.txt','L4_annu1_F_10_10.txt','L4_anuj1_M_13_10.txt','L4_avinash1_M_27_10.txt','L4_bhuvan1_M_13_10.txt','L4_chachiiiiiiiiiii1_F_35_10.txt','L4_champu_M_21_10.txt','L4_garima1_F_13_10.txt','L4_geetamami1_F_34_10.txt','L4_gordhan_M_45_10.txt','L4_Gunjan1_F_17_10.txt','L4_guzzrAunty1_F_48_10.txt','L4_joney1_M_31_10.txt','L4_kanchan1_F_12_10.txt','L4_kapil_M_21_10.txt','L4_kirti1_F_6_10.txt','L4_kusum1_F_48_10.txt','L4_lalit1_M_12_10.txt','L4_laras1_M_8_10.txt','L4_mahesh1_M_50_10.txt','L4_mannu1_M_13_10.txt','L4_manthan1_M_18_10.txt','L4_mohit1_M_10_10.txt','L4_monika1_F_24_10.txt','L4_moolchnd1_M_47_10.txt','L4_munish_M_42_10.txt','L4_nanaji1_M_63_10.txt','L4_naveen1_M_15_10.txt','L4_neeraj_M_28_10.txt','L4_nirmal_M_49_10.txt','L4_nishu1_M_12_10.txt','L4_omsingh_M_35_10.txt','L4_pawan1_M_23_10.txt','L4_prabhat1_M_25_10.txt','L4_prachi1_F_8_10.txt','L4_praveen1_M_28_10.txt','L4_priya1_F_7_10.txt','L4_pushpa1_F_37_10.txt','L4_radhe1_M_36_10.txt','L4_rajumama1_M_36_10.txt','L4_raj_M_28_10.txt','L4_ranu_M_22_10.txt','L4_rohit1_M_16_10.txt','L4_sachinn_M_38_10.txt','L4_sakshi1_F_19_10.txt','L4_santosh1_F_53_10.txt','L4_shelly_F_17_10.txt','L4_soniya1_F_25_10.txt','L4_sumit1_M_12_10.txt','L4_sunil_M_27_10.txt','L4_sunyana1_F_15_10.txt','L4_sushma1_F_18_10.txt','L4_swati1_F_13_10.txt','L4_tarun1_M_18_10.txt','L4_umesh1_M_20_10.txt','L4_vikas1_M_33_10.txt','L4_vinay1_M_11_10.txt','L4_yogesh_M_28_10.txt']\n",
        "len(filename)"
      ],
      "id": "40a38aeb"
    },
    {
      "cell_type": "code",
      "execution_count": 57,
      "metadata": {
        "colab": {
          "base_uri": "https://localhost:8080/"
        },
        "id": "cc27650d",
        "outputId": "ace210fb-5366-448d-ae1f-e0a72d95d8c9"
      },
      "outputs": [
        {
          "output_type": "stream",
          "name": "stdout",
          "text": [
            "(632697, 16)\n",
            "                          0       1        2       3       4         5   \\\n",
            "0        L1_abhay_M_38_1.txt  2.3714  80.9500  3.4591  5.1110 -0.033696   \n",
            "1        L1_abhay_M_38_1.txt  2.5153  83.8110  3.5632  5.4921 -0.007509   \n",
            "2        L1_abhay_M_38_1.txt  2.6574  86.5670  3.6620  5.8636  0.019180   \n",
            "3        L1_abhay_M_38_1.txt  2.7973  89.2050  3.7553  6.2228  0.046265   \n",
            "4        L1_abhay_M_38_1.txt  2.9342  91.7110  3.8422  6.5677  0.073672   \n",
            "...                      ...     ...      ...     ...     ...       ...   \n",
            "632692  L4_yogesh_M_28_9.txt  5.5722   7.1722 -6.5765  1.3987  0.024830   \n",
            "632693  L4_yogesh_M_28_9.txt  5.9157   7.3742 -6.4364  1.6734  0.027916   \n",
            "632694  L4_yogesh_M_28_9.txt  6.2507   7.4789 -6.2149  1.9458  0.033326   \n",
            "632695  L4_yogesh_M_28_9.txt  6.5767   7.4923 -5.9167  2.2158  0.040833   \n",
            "632696  L4_yogesh_M_28_9.txt  6.8925   7.4199 -5.5460  2.4836  0.050268   \n",
            "\n",
            "             6        7        8        9         10        11      12  \\\n",
            "0      -0.42472  3.10040 -0.76745  2.65340  0.080469 -1.526600  3.8561   \n",
            "1      -0.38709  3.11820 -0.72992  3.64730  0.085231 -1.559100  3.9293   \n",
            "2      -0.34961  3.12920 -0.69067  4.64000  0.089773 -1.588700  3.9968   \n",
            "3      -0.31263  3.13320 -0.64997  5.62520  0.094058 -1.615200  4.0584   \n",
            "4      -0.27603  3.12960 -0.60776  6.59920  0.098046 -1.638400  4.1135   \n",
            "...         ...      ...      ...      ...       ...       ...     ...   \n",
            "632692  0.75624  0.68849  3.09800  0.78057 -0.154680 -1.967100  3.7576   \n",
            "632693  0.71281  0.65319  3.11180  0.81421 -0.185240 -1.545600  3.8655   \n",
            "632694  0.70317  0.61902  3.11470  0.87218 -0.216610 -1.066600  3.9872   \n",
            "632695  0.72400  0.58555  3.10660  0.95202 -0.248690 -0.534190  4.1207   \n",
            "632696  0.77243  0.55255  3.08740  1.05170 -0.281380  0.048197  4.2634   \n",
            "\n",
            "             13       14  16  \n",
            "0      -10.8590 -0.13150   5  \n",
            "1      -11.3730 -0.19861   5  \n",
            "2      -11.8610 -0.26310   5  \n",
            "3      -12.3200 -0.32420   5  \n",
            "4      -12.7470 -0.38137   5  \n",
            "...         ...      ...  ..  \n",
            "632692  -1.4399 -7.26190   4  \n",
            "632693  -1.5074 -6.99010   4  \n",
            "632694  -1.5480 -6.63260   4  \n",
            "632695  -1.5633 -6.19430   4  \n",
            "632696  -1.5551 -5.67930   4  \n",
            "\n",
            "[632697 rows x 16 columns]\n"
          ]
        }
      ],
      "source": [
        "FILE_PATH = '/content/drive/MyDrive/ell319_termpaper/Untitled Folder/'\n",
        "# theta_age.csv, beta_age.csv, gamma_age.csv and alpha_age.csv\n",
        "df=pd.read_csv(FILE_PATH+'beta_age.csv',header=None)\n",
        "conditions = [\n",
        "    (df[15] <= 10),\n",
        "    (df[15] > 10) & (df[15] <= 15),\n",
        "    (df[15] > 15) & (df[15] <= 23),\n",
        "    (df[15] > 23) & (df[15] <= 29),\n",
        "    (df[15] > 29) & (df[15] <= 38),\n",
        "    (df[15] <= 90)]\n",
        "choices = [1, 2, 3, 4, 5, 6]\n",
        "df[16] = np.select(conditions, choices, default=0)\n",
        "df = df.drop(15,axis=1)\n",
        "print(df.shape)\n",
        "print(df)"
      ],
      "id": "cc27650d"
    },
    {
      "cell_type": "code",
      "execution_count": 60,
      "metadata": {
        "id": "Lj2_DANuOMWK"
      },
      "outputs": [],
      "source": [
        "data=np.array(df)\n",
        "data = data[:80380,:]"
      ],
      "id": "Lj2_DANuOMWK"
    },
    {
      "cell_type": "code",
      "execution_count": 59,
      "metadata": {
        "id": "n5yaYvCKORJl"
      },
      "outputs": [],
      "source": [
        "from sklearn.preprocessing import StandardScaler\n",
        "scl = StandardScaler()\n",
        "data[:,1:15] = scl.fit_transform(data[:,1:15])"
      ],
      "id": "n5yaYvCKORJl"
    },
    {
      "cell_type": "code",
      "execution_count": 61,
      "metadata": {
        "colab": {
          "base_uri": "https://localhost:8080/"
        },
        "id": "e55c1641",
        "outputId": "1e8f88fc-66a9-4900-be83-5d811b828d36"
      },
      "outputs": [
        {
          "output_type": "stream",
          "name": "stdout",
          "text": [
            "(80380, 16)\n",
            "[['L1_abhay_M_38_1.txt' 2.3714 80.95 ... -10.859 -0.1315 5]\n",
            " ['L1_abhay_M_38_1.txt' 2.5153 83.811 ... -11.373 -0.19861 5]\n",
            " ['L1_abhay_M_38_1.txt' 2.6574 86.567 ... -11.861 -0.2631 5]\n",
            " ...\n",
            " ['L1_nirmal_M_49_10.txt' -0.044836 -0.20045 ... 1.4498 -7.0804 6]\n",
            " ['L1_nirmal_M_49_10.txt' 0.043014 -0.10979 ... 1.6366 -7.1206 6]\n",
            " ['L1_nirmal_M_49_10.txt' 0.12467 -0.018982 ... 1.8144 -7.2766 6]]\n"
          ]
        }
      ],
      "source": [
        "\n",
        "print(data.shape)\n",
        "print(data)"
      ],
      "id": "e55c1641"
    },
    {
      "cell_type": "code",
      "execution_count": 62,
      "metadata": {
        "id": "354d3d27"
      },
      "outputs": [],
      "source": [
        "# pick a large window size of 25 cycles\n",
        "sequence_length = 50\n",
        "\n",
        "# function to reshape features into (samples, time steps, features) \n",
        "def gen_sequence(id_df, seq_length, seq_cols):\n",
        "    \n",
        "    data_matrix = id_df[:,seq_cols]\n",
        "    \n",
        "    num_elements = data_matrix.shape[0]\n",
        "    for start, stop in zip(range(0, num_elements-seq_length), range(seq_length, num_elements)):\n",
        "        yield data_matrix[start:stop, :]"
      ],
      "id": "354d3d27"
    },
    {
      "cell_type": "code",
      "execution_count": 63,
      "metadata": {
        "colab": {
          "base_uri": "https://localhost:8080/"
        },
        "id": "e1b7f79d",
        "outputId": "63eb699b-99d8-41bc-ad30-be43c5315653"
      },
      "outputs": [
        {
          "output_type": "stream",
          "name": "stdout",
          "text": [
            "(64780, 50, 15)\n"
          ]
        },
        {
          "output_type": "execute_result",
          "data": {
            "text/plain": [
              "array([[[242.96, 615.14, 410.71, ..., 572.63, 418.78, 3],\n",
              "        [253.1, 638.1, 428.09, ..., 593.28, 432.79, 3],\n",
              "        [261.8, 657.5, 443.29, ..., 610.52, 444.24, 3],\n",
              "        ...,\n",
              "        [-82.405, -208.42, -146.71, ..., -252.05, -179.68, 3],\n",
              "        [-87.993, -218.82, -161.76, ..., -260.44, -182.45, 3],\n",
              "        [-93.691, -229.43, -176.99, ..., -268.81, -185.19, 3]],\n",
              "\n",
              "       [[253.1, 638.1, 428.09, ..., 593.28, 432.79, 3],\n",
              "        [261.8, 657.5, 443.29, ..., 610.52, 444.24, 3],\n",
              "        [268.98, 673.14, 456.19, ..., 624.14, 452.98, 3],\n",
              "        ...,\n",
              "        [-87.993, -218.82, -161.76, ..., -260.44, -182.45, 3],\n",
              "        [-93.691, -229.43, -176.99, ..., -268.81, -185.19, 3],\n",
              "        [-99.406, -240.04, -192.22, ..., -276.96, -187.78, 3]],\n",
              "\n",
              "       [[261.8, 657.5, 443.29, ..., 610.52, 444.24, 3],\n",
              "        [268.98, 673.14, 456.19, ..., 624.14, 452.98, 3],\n",
              "        [274.59, 684.92, 466.71, ..., 634.07, 458.96, 3],\n",
              "        ...,\n",
              "        [-93.691, -229.43, -176.99, ..., -268.81, -185.19, 3],\n",
              "        [-99.406, -240.04, -192.22, ..., -276.96, -187.78, 3],\n",
              "        [-105.17, -250.73, -207.46, ..., -284.96, -190.3, 3]],\n",
              "\n",
              "       ...,\n",
              "\n",
              "       [[-2.5578, -3.1721, -6.6266, ..., -3.274, 13.842, 6],\n",
              "        [-2.3314, -2.6876, -6.8135, ..., -3.2082, 8.7798, 6],\n",
              "        [-2.1005, -2.1991, -6.9779, ..., -3.1352, 3.6532, 6],\n",
              "        ...,\n",
              "        [-0.32486, -0.43577, 6.189, ..., 0.85029, -7.9466, 6],\n",
              "        [-0.23894, -0.37476, 6.1935, ..., 1.048, -7.4881, 6],\n",
              "        [-0.14216, -0.29267, 6.1556, ..., 1.2508, -7.1968, 6]],\n",
              "\n",
              "       [[-2.3314, -2.6876, -6.8135, ..., -3.2082, 8.7798, 6],\n",
              "        [-2.1005, -2.1991, -6.9779, ..., -3.1352, 3.6532, 6],\n",
              "        [-1.8837, -1.7281, -7.1302, ..., -3.0698, -1.496, 6],\n",
              "        ...,\n",
              "        [-0.23894, -0.37476, 6.1935, ..., 1.048, -7.4881, 6],\n",
              "        [-0.14216, -0.29267, 6.1556, ..., 1.2508, -7.1968, 6],\n",
              "        [-0.044836, -0.20045, 6.068, ..., 1.4498, -7.0804, 6]],\n",
              "\n",
              "       [[-2.1005, -2.1991, -6.9779, ..., -3.1352, 3.6532, 6],\n",
              "        [-1.8837, -1.7281, -7.1302, ..., -3.0698, -1.496, 6],\n",
              "        [-1.6735, -1.2694, -7.2605, ..., -3.0049, -6.599, 6],\n",
              "        ...,\n",
              "        [-0.14216, -0.29267, 6.1556, ..., 1.2508, -7.1968, 6],\n",
              "        [-0.044836, -0.20045, 6.068, ..., 1.4498, -7.0804, 6],\n",
              "        [0.043014, -0.10979, 5.9264, ..., 1.6366, -7.1206, 6]]],\n",
              "      dtype=object)"
            ]
          },
          "metadata": {},
          "execution_count": 63
        }
      ],
      "source": [
        "sequence_cols = [1,2,3,4,5,6,7,8,9,10,11,12,13,14,15]\n",
        "\n",
        "seq_gen = (list(gen_sequence(data[data[0:,0]==id], sequence_length, sequence_cols)) \n",
        "          for id in np.unique(data[0:,0]))\n",
        "\n",
        "seq_array = np.concatenate(list(seq_gen))\n",
        "print(seq_array.shape)\n",
        "seq_array"
      ],
      "id": "e1b7f79d"
    },
    {
      "cell_type": "code",
      "execution_count": 64,
      "metadata": {
        "id": "R1Bc3rHnEPPU"
      },
      "outputs": [],
      "source": [
        "from sklearn.utils import shuffle\n",
        "seq_array = shuffle(seq_array)"
      ],
      "id": "R1Bc3rHnEPPU"
    },
    {
      "cell_type": "code",
      "execution_count": 65,
      "metadata": {
        "colab": {
          "base_uri": "https://localhost:8080/"
        },
        "id": "ceda5e73",
        "outputId": "439aca29-4ec2-4260-c56f-f2cfa989aa20"
      },
      "outputs": [
        {
          "output_type": "stream",
          "name": "stdout",
          "text": [
            "(60000, 50, 14)\n",
            "(60000, 1)\n",
            "(4780, 50, 14)\n",
            "(4780,)\n"
          ]
        }
      ],
      "source": [
        "train_final=seq_array[0:60000,:,0:14]\n",
        "test_final=seq_array[60000:,:,0:14]\n",
        "from sklearn import preprocessing\n",
        "train_label=seq_array[0:60000,0,14]\n",
        "test_label=seq_array[60000:,0,14]\n",
        "train_label=train_label.reshape((train_label.shape[0],1))\n",
        "train_label=train_label.astype('int')\n",
        "test_label=test_label.astype('int')\n",
        "print(train_final.shape)\n",
        "print(train_label.shape)\n",
        "print(test_final.shape)\n",
        "print(test_label.shape)"
      ],
      "id": "ceda5e73"
    },
    {
      "cell_type": "code",
      "execution_count": 66,
      "metadata": {
        "colab": {
          "base_uri": "https://localhost:8080/"
        },
        "id": "Gwn1uPixYGxi",
        "outputId": "3cdb09a0-2aef-4bb2-e9a3-81956d9c1046"
      },
      "outputs": [
        {
          "output_type": "stream",
          "name": "stderr",
          "text": [
            "/usr/local/lib/python3.7/dist-packages/sklearn/preprocessing/_label.py:98: DataConversionWarning: A column-vector y was passed when a 1d array was expected. Please change the shape of y to (n_samples, ), for example using ravel().\n",
            "  y = column_or_1d(y, warn=True)\n",
            "/usr/local/lib/python3.7/dist-packages/sklearn/preprocessing/_label.py:133: DataConversionWarning: A column-vector y was passed when a 1d array was expected. Please change the shape of y to (n_samples, ), for example using ravel().\n",
            "  y = column_or_1d(y, warn=True)\n"
          ]
        }
      ],
      "source": [
        "from sklearn.preprocessing import LabelEncoder\n",
        "encoder = LabelEncoder()\n",
        "encoder.fit(train_label)\n",
        "train_label = encoder.transform(train_label)\n",
        "test_label = encoder.transform(test_label)\n",
        "# convert integers to dummy variables (i.e. one hot encoded)"
      ],
      "id": "Gwn1uPixYGxi"
    },
    {
      "cell_type": "code",
      "execution_count": 67,
      "metadata": {
        "id": "evmVSdWaYvuz"
      },
      "outputs": [],
      "source": [
        "from keras.utils import np_utils\n",
        "\n",
        "train_label = np_utils.to_categorical(train_label)\n",
        "# test_label = np_utils.to_categorical(test_label)"
      ],
      "id": "evmVSdWaYvuz"
    },
    {
      "cell_type": "code",
      "execution_count": 68,
      "metadata": {
        "colab": {
          "base_uri": "https://localhost:8080/"
        },
        "id": "FGxibt8jY5BT",
        "outputId": "d6e3af90-1436-4231-ef2b-d3cd789633a1"
      },
      "outputs": [
        {
          "output_type": "stream",
          "name": "stdout",
          "text": [
            "(60000, 50, 14)\n",
            "(60000, 6)\n",
            "(4780, 50, 14)\n",
            "(4780,)\n",
            "[[0. 0. 0. 0. 0. 1.]\n",
            " [1. 0. 0. 0. 0. 0.]\n",
            " [0. 0. 0. 1. 0. 0.]\n",
            " ...\n",
            " [1. 0. 0. 0. 0. 0.]\n",
            " [1. 0. 0. 0. 0. 0.]\n",
            " [0. 1. 0. 0. 0. 0.]]\n",
            "[0 1 2 3 4 5]\n"
          ]
        }
      ],
      "source": [
        "print(train_final.shape)\n",
        "print(train_label.shape)\n",
        "print(test_final.shape)\n",
        "print(test_label.shape)\n",
        "print(train_label)\n",
        "print(np.unique(test_label))"
      ],
      "id": "FGxibt8jY5BT"
    },
    {
      "cell_type": "code",
      "execution_count": 69,
      "metadata": {
        "id": "0f50d2fc"
      },
      "outputs": [],
      "source": [
        "import tensorflow\n",
        "from tensorflow.keras.models import Sequential\n",
        "from tensorflow.keras.layers import Dense\n",
        "from tensorflow.keras.layers import LSTM"
      ],
      "id": "0f50d2fc"
    },
    {
      "cell_type": "code",
      "execution_count": 70,
      "metadata": {
        "colab": {
          "base_uri": "https://localhost:8080/"
        },
        "id": "d8b7769b",
        "outputId": "d6095d74-ca87-4a41-fef5-55503976cc67"
      },
      "outputs": [
        {
          "output_type": "stream",
          "name": "stdout",
          "text": [
            "Model: \"sequential_3\"\n",
            "_________________________________________________________________\n",
            " Layer (type)                Output Shape              Param #   \n",
            "=================================================================\n",
            " bidirectional_3 (Bidirectio  (None, 50, 512)          555008    \n",
            " nal)                                                            \n",
            "                                                                 \n",
            " dropout_3 (Dropout)         (None, 50, 512)           0         \n",
            "                                                                 \n",
            " batch_normalization_9 (Batc  (None, 50, 512)          2048      \n",
            " hNormalization)                                                 \n",
            "                                                                 \n",
            " lstm_10 (LSTM)              (None, 50, 128)           328192    \n",
            "                                                                 \n",
            " batch_normalization_10 (Bat  (None, 50, 128)          512       \n",
            " chNormalization)                                                \n",
            "                                                                 \n",
            " lstm_11 (LSTM)              (None, 64)                49408     \n",
            "                                                                 \n",
            " batch_normalization_11 (Bat  (None, 64)               256       \n",
            " chNormalization)                                                \n",
            "                                                                 \n",
            " dense_6 (Dense)             (None, 32)                2080      \n",
            "                                                                 \n",
            " dense_7 (Dense)             (None, 6)                 198       \n",
            "                                                                 \n",
            "=================================================================\n",
            "Total params: 937,702\n",
            "Trainable params: 936,294\n",
            "Non-trainable params: 1,408\n",
            "_________________________________________________________________\n",
            "None\n"
          ]
        },
        {
          "output_type": "stream",
          "name": "stderr",
          "text": [
            "/usr/local/lib/python3.7/dist-packages/keras/optimizer_v2/adam.py:105: UserWarning: The `lr` argument is deprecated, use `learning_rate` instead.\n",
            "  super(Adam, self).__init__(name, **kwargs)\n"
          ]
        }
      ],
      "source": [
        "# creating our model:\n",
        "\n",
        "nb_features = train_final.shape[2]\n",
        "nb_out = train_label.shape[1]\n",
        "\n",
        "model = Sequential()\n",
        "\n",
        "model.add(Bidirectional(LSTM( units=256,\n",
        "         return_sequences=True),\n",
        "         input_shape=(sequence_length, nb_features),\n",
        "        ))\n",
        "model.add(Dropout(0.2))\n",
        "model.add(BatchNormalization())\n",
        "\n",
        "model.add(LSTM(\n",
        "         units=128,\n",
        "         return_sequences=True))\n",
        "\n",
        "model.add(BatchNormalization())\n",
        "model.add(LSTM(\n",
        "          units=64,\n",
        "          return_sequences=False))\n",
        "\n",
        "model.add(BatchNormalization())\n",
        "model.add(Dense(units=32))\n",
        "model.add(Dense(units=6, activation='softmax'))\n",
        "tensorflow.keras.optimizers.Adam(lr=0.001, beta_1=0.9, beta_2=0.999, epsilon=None, decay=0.0, amsgrad=False)\n",
        "model.compile(loss='categorical_crossentropy', optimizer='adam', metrics=['accuracy'])\n",
        "\n",
        "print(model.summary())"
      ],
      "id": "d8b7769b"
    },
    {
      "cell_type": "code",
      "execution_count": 71,
      "metadata": {
        "colab": {
          "base_uri": "https://localhost:8080/"
        },
        "id": "44cfd8ac",
        "outputId": "be07538f-aa51-4ce6-f428-fef458824256"
      },
      "outputs": [
        {
          "output_type": "stream",
          "name": "stdout",
          "text": [
            "1500/1500 [==============================] - 148s 94ms/step - loss: 0.5100 - accuracy: 0.8212 - val_loss: 0.1717 - val_accuracy: 0.9411\n"
          ]
        },
        {
          "output_type": "execute_result",
          "data": {
            "text/plain": [
              "<keras.callbacks.History at 0x7efc63008510>"
            ]
          },
          "metadata": {},
          "execution_count": 71
        }
      ],
      "source": [
        "# fitting the model with training data\n",
        "\n",
        "train_final = np.asarray(train_final).astype(np.float32)\n",
        "test_final = np.asarray(test_final).astype(np.float32)\n",
        "model.fit(train_final,train_label,validation_split=0.2,epochs=1, batch_size=32,verbose=1)"
      ],
      "id": "44cfd8ac"
    },
    {
      "cell_type": "code",
      "execution_count": 72,
      "metadata": {
        "colab": {
          "base_uri": "https://localhost:8080/"
        },
        "id": "dWDTP_yALgnR",
        "outputId": "be888779-52fb-49c9-c907-f0ca601e7bd1"
      },
      "outputs": [
        {
          "output_type": "stream",
          "name": "stdout",
          "text": [
            "[[ 571    5    4    0    0    2]\n",
            " [   4 1060   11    3    0    4]\n",
            " [   7   19  741    2    1   29]\n",
            " [   4   19   15  522    2    7]\n",
            " [   4   27   20    9  560   27]\n",
            " [   7   44    9    7    3 1031]]\n",
            "\n",
            "Accuracy: 0.94\n",
            "\n",
            "Micro Precision: 0.94\n",
            "Micro Recall: 0.94\n",
            "Micro F1-score: 0.94\n",
            "\n"
          ]
        }
      ],
      "source": [
        "# printing confusion matrix and calculating accuracy of our model\n",
        "\n",
        "test_final = np.asarray(test_final).astype(np.float32)\n",
        "y_pred_test = np.argmax(model.predict(test_final),axis=1)\n",
        "\n",
        "y_true_test = test_label\n",
        "\n",
        "cm_test = confusion_matrix(y_true_test, y_pred_test)\n",
        "print(cm_test)\n",
        "\n",
        "from sklearn.metrics import accuracy_score, precision_score, recall_score, f1_score\n",
        "print('\\nAccuracy: {:.2f}\\n'.format(accuracy_score(y_true_test, y_pred_test)))\n",
        "print('Micro Precision: {:.2f}'.format(precision_score(y_true_test, y_pred_test, average='micro')))\n",
        "print('Micro Recall: {:.2f}'.format(recall_score(y_true_test, y_pred_test, average='micro')))\n",
        "print('Micro F1-score: {:.2f}\\n'.format(f1_score(y_true_test, y_pred_test, average='micro')))"
      ],
      "id": "dWDTP_yALgnR"
    },
    {
      "cell_type": "code",
      "execution_count": 73,
      "metadata": {
        "id": "LBn5STaLLalh"
      },
      "outputs": [],
      "source": [
        "# defining function to plot confusion matrix plot as shown below\n",
        "def plot_confusion_matrix(cm, classes,\n",
        "                          normalize=False,\n",
        "                          title='Confusion matrix',\n",
        "                          cmap=plt.cm.Blues):\n",
        "    \"\"\"\n",
        "    This function prints and plots the confusion matrix.\n",
        "    Normalization can be applied by setting `normalize=True`.\n",
        "    \"\"\"\n",
        "    if normalize:\n",
        "        cm = cm.astype('float') / cm.sum(axis=1)[:, np.newaxis]\n",
        "        print(\"Normalized confusion matrix\")\n",
        "    else:\n",
        "        print('Confusion matrix, without normalization')\n",
        "\n",
        "    print(cm)\n",
        "    fig=plt.figure()\n",
        "    plt.imshow(cm, interpolation='nearest', cmap=cmap)\n",
        "    plt.title(title)\n",
        "    plt.colorbar()\n",
        "    tick_marks = np.arange(len(classes))\n",
        "    plt.xticks(tick_marks, classes, rotation=45)\n",
        "    plt.yticks(tick_marks, classes)\n",
        "\n",
        "    fmt = '.2f' if normalize else 'd'\n",
        "    thresh = cm.max() / 2.\n",
        "    for i, j in itertools.product(range(cm.shape[0]), range(cm.shape[1])):\n",
        "        plt.text(j, i, format(cm[i, j], fmt),\n",
        "                 horizontalalignment=\"center\",\n",
        "                 color=\"white\" if cm[i, j] > thresh else \"black\")\n",
        "\n",
        "    plt.tight_layout()\n",
        "    plt.ylabel('True label')\n",
        "    plt.xlabel('Predicted label')\n",
        "    fig.savefig('confusion_matrix_gender_alpha.png',bbox_inches='tight')"
      ],
      "id": "LBn5STaLLalh"
    },
    {
      "cell_type": "code",
      "execution_count": 74,
      "metadata": {
        "colab": {
          "base_uri": "https://localhost:8080/",
          "height": 652
        },
        "id": "JK-oGdGaLiy6",
        "outputId": "5ecb07f4-bfd3-4ed6-edfa-aa90c7137522"
      },
      "outputs": [
        {
          "output_type": "stream",
          "name": "stdout",
          "text": [
            "Confusion matrix, without normalization\n",
            "[[ 571    5    4    0    0    2]\n",
            " [   4 1060   11    3    0    4]\n",
            " [   7   19  741    2    1   29]\n",
            " [   4   19   15  522    2    7]\n",
            " [   4   27   20    9  560   27]\n",
            " [   7   44    9    7    3 1031]]\n"
          ]
        },
        {
          "output_type": "display_data",
          "data": {
            "text/plain": [
              "<Figure size 504x504 with 0 Axes>"
            ]
          },
          "metadata": {}
        },
        {
          "output_type": "display_data",
          "data": {
            "text/plain": [
              "<Figure size 504x504 with 2 Axes>"
            ],
            "image/png": "[encoded data removed]"
          },
          "metadata": {
            "needs_background": "light"
          }
        }
      ],
      "source": [
        "# Plot non-normalized confusion matrix\n",
        "class_names=['6 - 10','12 - 15','18 - 23','25 - 29','33 - 38','42 - 55']\n",
        "plt.figure()\n",
        "plt.rcParams[\"figure.figsize\"] = (7,7)\n",
        "plot_confusion_matrix(cm_test, classes=class_names,\n",
        "                      title='Confusion matrix')\n",
        "plt.show()"
      ],
      "id": "JK-oGdGaLiy6"
    }
  ],
  "metadata": {
    "accelerator": "GPU",
    "colab": {
      "collapsed_sections": [],
      "name": "AgeClassification.ipynb",
      "provenance": []
    },
    "kernelspec": {
      "display_name": "Python 3",
      "language": "python",
      "name": "python3"
    },
    "language_info": {
      "codemirror_mode": {
        "name": "ipython",
        "version": 3
      },
      "file_extension": ".py",
      "mimetype": "text/x-python",
      "name": "python",
      "nbconvert_exporter": "python",
      "pygments_lexer": "ipython3",
      "version": "3.8.8"
    }
  },
  "nbformat": 4,
  "nbformat_minor": 5
}